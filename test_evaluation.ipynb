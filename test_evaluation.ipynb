{
 "cells": [
  {
   "cell_type": "code",
   "execution_count": 1,
   "metadata": {},
   "outputs": [],
   "source": [
    "import json"
   ]
  },
  {
   "cell_type": "code",
   "execution_count": 2,
   "metadata": {},
   "outputs": [],
   "source": [
    "from datasets import load_dataset"
   ]
  },
  {
   "cell_type": "code",
   "execution_count": 3,
   "metadata": {},
   "outputs": [],
   "source": [
    "dataset = load_dataset(\"BAAI/TACO\")"
   ]
  },
  {
   "cell_type": "code",
   "execution_count": 4,
   "metadata": {},
   "outputs": [
    {
     "data": {
      "text/plain": [
       "DatasetDict({\n",
       "    train: Dataset({\n",
       "        features: ['question', 'solutions', 'starter_code', 'input_output', 'difficulty', 'raw_tags', 'name', 'source', 'tags', 'skill_types', 'url', 'Expected Auxiliary Space', 'time_limit', 'date', 'picture_num', 'memory_limit', 'Expected Time Complexity'],\n",
       "        num_rows: 25443\n",
       "    })\n",
       "    test: Dataset({\n",
       "        features: ['question', 'solutions', 'starter_code', 'input_output', 'difficulty', 'raw_tags', 'name', 'source', 'tags', 'skill_types', 'url', 'Expected Auxiliary Space', 'time_limit', 'date', 'picture_num', 'memory_limit', 'Expected Time Complexity'],\n",
       "        num_rows: 1000\n",
       "    })\n",
       "})"
      ]
     },
     "execution_count": 4,
     "metadata": {},
     "output_type": "execute_result"
    }
   ],
   "source": [
    "dataset"
   ]
  },
  {
   "cell_type": "code",
   "execution_count": 5,
   "metadata": {},
   "outputs": [],
   "source": [
    "from metrics.testing_util import run_test"
   ]
  },
  {
   "cell_type": "code",
   "execution_count": 6,
   "metadata": {},
   "outputs": [
    {
     "name": "stdout",
     "output_type": "stream",
     "text": [
      "8\n"
     ]
    },
    {
     "data": {
      "text/plain": [
       "{'question': 'An **anagram** is the result of rearranging the letters of a word to produce a new word.\\n\\n**Note:** anagrams are case insensitive\\n\\nComplete the function to return `true` if the two arguments given are anagrams of each other; return `false` otherwise.\\n\\n\\n## Examples\\n\\n* `\"foefet\"` is an anagram of `\"toffee\"`\\n\\n* `\"Buckethead\"` is an anagram of `\"DeathCubeK\"`',\n",
       " 'solutions': '[\"def is_anagram(test, original):\\\\n\\\\treturn sorted(original.lower()) == sorted(test.lower())\\\\n\", \"from collections import Counter\\\\n\\\\ndef is_anagram(test, original):\\\\n\\\\treturn Counter(test.lower()) == Counter(original.lower())\\\\n\", \"def is_anagram(test, original):\\\\n\\\\treturn sorted(test.upper()) == sorted(original.upper())\\\\n\", \"def is_anagram(test, original):\\\\n\\\\t(test_dict, original_dict) = ({}, {})\\\\n\\\\tfor i in test.lower():\\\\n\\\\t\\\\ttest_dict[i] = test_dict.get(i, 0) + 1\\\\n\\\\tfor i in original.lower():\\\\n\\\\t\\\\toriginal_dict[i] = original_dict.get(i, 0) + 1\\\\n\\\\treturn test_dict == original_dict\\\\n\", \"def is_anagram(test, original):\\\\n\\\\tif len(test) != len(original):\\\\n\\\\t\\\\treturn False\\\\n\\\\tcount = [0] * 26\\\\n\\\\tfor i in range(len(test)):\\\\n\\\\t\\\\tcount[(ord(test[i]) & 31) - 1] += 1\\\\n\\\\t\\\\tcount[(ord(original[i]) & 31) - 1] -= 1\\\\n\\\\treturn not any(count)\\\\n\", \"def is_anagram(test, original):\\\\n\\\\ta = sorted(test.lower())\\\\n\\\\tb = sorted(original.lower())\\\\n\\\\tc = \\'\\'.join(a)\\\\n\\\\td = \\'\\'.join(b)\\\\n\\\\tif c == d:\\\\n\\\\t\\\\treturn True\\\\n\\\\telse:\\\\n\\\\t\\\\treturn False\\\\n\", \"def is_anagram(test, original):\\\\n\\\\tgo = len(test) == len(original)\\\\n\\\\tarr = []\\\\n\\\\tif go:\\\\n\\\\t\\\\tfor i in test:\\\\n\\\\t\\\\t\\\\tarr.append(i.lower() in original.lower())\\\\n\\\\t\\\\treturn False not in arr\\\\n\\\\telse:\\\\n\\\\t\\\\treturn False\\\\n\", \"def is_anagram(test, original):\\\\n\\\\tif len(test) != len(original):\\\\n\\\\t\\\\treturn False\\\\n\\\\tfor l in test.lower():\\\\n\\\\t\\\\tif l not in original.lower():\\\\n\\\\t\\\\t\\\\treturn False\\\\n\\\\treturn True\\\\n\", \"from operator import eq\\\\nfrom collections import Counter\\\\n\\\\ndef is_anagram(test, original):\\\\n\\\\treturn eq(*map(Counter, map(str.lower, (test, original))))\\\\n\", \"def is_anagram(test, original):\\\\n\\\\tif len(test) != len(original):\\\\n\\\\t\\\\treturn False\\\\n\\\\treturn sorted(test.lower()) == sorted(original.lower())\\\\n\", \"def is_anagram(test, original):\\\\n\\\\tif sorted(test.lower()) == sorted(original.lower()):\\\\n\\\\t\\\\treturn True\\\\n\\\\telse:\\\\n\\\\t\\\\treturn False\\\\n\", \"is_anagram = lambda t, o: sorted(t.lower()) == sorted(o.lower())\\\\n\", \"aprime = {\\'a\\': 2, \\'c\\': 5, \\'b\\': 3, \\'e\\': 11, \\'d\\': 7, \\'g\\': 17, \\'f\\': 13, \\'i\\': 23, \\'h\\': 19, \\'k\\': 31, \\'j\\': 29, \\'m\\': 41, \\'l\\': 37, \\'o\\': 47, \\'n\\': 43, \\'q\\': 59, \\'p\\': 53, \\'s\\': 67, \\'r\\': 61, \\'u\\': 73, \\'t\\': 71, \\'w\\': 83, \\'v\\': 79, \\'y\\': 97, \\'x\\': 89, \\'z\\': 101}\\\\n\\\\ndef aprime_sum(str):\\\\n\\\\tstrChList = list(str.lower())\\\\n\\\\treturn sum([aprime[x] for x in strChList])\\\\n\\\\ndef is_anagram(test, original):\\\\n\\\\tif aprime_sum(test) == aprime_sum(original):\\\\n\\\\t\\\\treturn True\\\\n\\\\telse:\\\\n\\\\t\\\\treturn False\\\\n\", \"def is_anagram(test, original):\\\\n\\\\treturn set(original.lower()) == set(test.lower()) if len(test) == len(original) else False\\\\n\", \"def is_anagram(test, original):\\\\n\\\\ta = list(test.lower())\\\\n\\\\ts = list(original.lower())\\\\n\\\\tif len(a) != len(s):\\\\n\\\\t\\\\treturn False\\\\n\\\\telse:\\\\n\\\\t\\\\tfor i in a:\\\\n\\\\t\\\\t\\\\tcond = False\\\\n\\\\t\\\\t\\\\tk = 0\\\\n\\\\t\\\\t\\\\twhile k != len(s) and cond == False:\\\\n\\\\t\\\\t\\\\t\\\\tif i == s[k]:\\\\n\\\\t\\\\t\\\\t\\\\t\\\\ta.remove(i)\\\\n\\\\t\\\\t\\\\t\\\\t\\\\ts.remove(i)\\\\n\\\\t\\\\t\\\\t\\\\t\\\\tcond = True\\\\n\\\\t\\\\t\\\\t\\\\tk += 1\\\\n\\\\t\\\\t\\\\tif cond == False:\\\\n\\\\t\\\\t\\\\t\\\\treturn False\\\\n\\\\t\\\\tif len(a) != len(s):\\\\n\\\\t\\\\t\\\\treturn False\\\\n\\\\t\\\\telse:\\\\n\\\\t\\\\t\\\\treturn True\\\\n\", \"def is_anagram(test, original):\\\\n\\\\tflag = 0\\\\n\\\\tif len(test) != len(original):\\\\n\\\\t\\\\treturn False\\\\n\\\\telse:\\\\n\\\\t\\\\tfor i in test.lower():\\\\n\\\\t\\\\t\\\\tif i not in original.lower():\\\\n\\\\t\\\\t\\\\t\\\\tflag = 1\\\\n\\\\t\\\\t\\\\telse:\\\\n\\\\t\\\\t\\\\t\\\\tcontinue\\\\n\\\\t\\\\tif flag == 1:\\\\n\\\\t\\\\t\\\\treturn False\\\\n\\\\t\\\\telse:\\\\n\\\\t\\\\t\\\\treturn True\\\\n\", \"def is_anagram(test, original):\\\\n\\\\n\\\\tdef to_dict(word):\\\\n\\\\t\\\\tdictionary = {}\\\\n\\\\t\\\\tfor w in word.lower():\\\\n\\\\t\\\\t\\\\tif w not in dictionary:\\\\n\\\\t\\\\t\\\\t\\\\tdictionary[w] = 0\\\\n\\\\t\\\\t\\\\telse:\\\\n\\\\t\\\\t\\\\t\\\\tdictionary[w] += 1\\\\n\\\\t\\\\treturn dictionary\\\\n\\\\treturn to_dict(test) == to_dict(original)\\\\n\", \"is_anagram = lambda a, b, s=sorted: s(a.lower()) == s(b.lower())\\\\n\", \"def is_anagram(s, l):\\\\n\\\\tn = len(s)\\\\n\\\\tif len(l) != n:\\\\n\\\\t\\\\treturn False\\\\n\\\\ts = s.lower()\\\\n\\\\tl = l.lower()\\\\n\\\\th = [0 for x in range(26)]\\\\n\\\\tfor i in range(n):\\\\n\\\\t\\\\th[ord(s[i]) - 97] += 1\\\\n\\\\t\\\\th[ord(l[i]) - 97] -= 1\\\\n\\\\treturn h.count(0) == 26\\\\n\", \"def is_anagram(test: str, original: str) -> bool:\\\\n\\\\treturn all([all([_ in original.lower() for _ in test.lower()]), len(test) == len(original)])\\\\n\", \"def is_anagram(test, original):\\\\n\\\\ttest = test.lower()\\\\n\\\\toriginal = original.lower()\\\\n\\\\ttestcount = 0\\\\n\\\\tfor i in test:\\\\n\\\\t\\\\tif i in original:\\\\n\\\\t\\\\t\\\\ttestcount += 1\\\\n\\\\toriginalcount = 0\\\\n\\\\tfor i in original:\\\\n\\\\t\\\\tif i in test:\\\\n\\\\t\\\\t\\\\toriginalcount += 1\\\\n\\\\tif testcount == originalcount and testcount == len(test) and (originalcount == len(original)):\\\\n\\\\t\\\\treturn True\\\\n\\\\telse:\\\\n\\\\t\\\\treturn False\\\\n\", \"def is_anagram(test, original):\\\\n\\\\tif len(test) == len(original):\\\\n\\\\t\\\\ttest = test.lower()\\\\n\\\\t\\\\toriginal = original.lower()\\\\n\\\\t\\\\tcount = 0\\\\n\\\\t\\\\tfor char in test:\\\\n\\\\t\\\\t\\\\tif char in original:\\\\n\\\\t\\\\t\\\\t\\\\tcount += 1\\\\n\\\\t\\\\tif count == len(test):\\\\n\\\\t\\\\t\\\\treturn True\\\\n\\\\t\\\\telse:\\\\n\\\\t\\\\t\\\\treturn False\\\\n\\\\telse:\\\\n\\\\t\\\\treturn False\\\\n\", \"def is_anagram(test, original):\\\\n\\\\ttest_list = []\\\\n\\\\toriginal_list = []\\\\n\\\\tfor i in test.lower():\\\\n\\\\t\\\\ttest_list.append(i)\\\\n\\\\tfor i in original.lower():\\\\n\\\\t\\\\toriginal_list.append(i)\\\\n\\\\ttest_list.sort()\\\\n\\\\toriginal_list.sort()\\\\n\\\\tprint(test_list)\\\\n\\\\tprint(original_list)\\\\n\\\\tif test_list == original_list:\\\\n\\\\t\\\\treturn True\\\\n\\\\telse:\\\\n\\\\t\\\\treturn False\\\\n\", \"def is_anagram(test, original):\\\\n\\\\tif len(test) != len(original):\\\\n\\\\t\\\\treturn False\\\\n\\\\tletters = {}\\\\n\\\\tfor i in test.lower():\\\\n\\\\t\\\\tif i in letters:\\\\n\\\\t\\\\t\\\\tletters[i] += 1\\\\n\\\\t\\\\telse:\\\\n\\\\t\\\\t\\\\tletters[i] = 1\\\\n\\\\tfor i in original.lower():\\\\n\\\\t\\\\tif i not in letters:\\\\n\\\\t\\\\t\\\\treturn False\\\\n\\\\t\\\\tif original.lower().count(i) != letters[i]:\\\\n\\\\t\\\\t\\\\treturn False\\\\n\\\\treturn True\\\\n\", \"def is_anagram(t, o):\\\\n\\\\treturn sorted([*t.lower()]) == sorted([*o.lower()])\\\\n\", \"def is_anagram(test, original):\\\\n\\\\tx = list(test.lower())\\\\n\\\\ty = list(original.lower())\\\\n\\\\tx = sorted(x)\\\\n\\\\ty = sorted(y)\\\\n\\\\tif x == y:\\\\n\\\\t\\\\treturn True\\\\n\\\\telse:\\\\n\\\\t\\\\treturn False\\\\n\", \"def is_anagram(test, original):\\\\n\\\\tif len(test) != len(original):\\\\n\\\\t\\\\treturn False\\\\n\\\\ta = sorted(test.lower())\\\\n\\\\tb = sorted(original.lower())\\\\n\\\\tif a == b:\\\\n\\\\t\\\\treturn True\\\\n\\\\telse:\\\\n\\\\t\\\\treturn False\\\\n\", \"def is_anagram(test, original):\\\\n\\\\tsorted_test = sorted(list(test.lower()))\\\\n\\\\tsorted_original = sorted(list(original.lower()))\\\\n\\\\treturn sorted_test == sorted_original\\\\n\", \"def is_anagram(test, original):\\\\n\\\\tletters = [c for c in test.lower()]\\\\n\\\\tfor char in original.lower():\\\\n\\\\t\\\\tif char in letters:\\\\n\\\\t\\\\t\\\\tdel letters[letters.index(char)]\\\\n\\\\t\\\\telse:\\\\n\\\\t\\\\t\\\\treturn False\\\\n\\\\treturn not bool(len(letters))\\\\n\", \"import collections\\\\n\\\\ndef is_anagram(test, original):\\\\n\\\\treturn collections.Counter([i.lower() for i in sorted(test)]) == collections.Counter([i.lower() for i in sorted(original)])\\\\n\", \"def is_anagram(test, original):\\\\n\\\\ttest_set = sorted(test.lower())\\\\n\\\\toriginal_set = sorted(original.lower())\\\\n\\\\tif test_set == original_set:\\\\n\\\\t\\\\treturn True\\\\n\\\\telse:\\\\n\\\\t\\\\treturn False\\\\n\", \"def is_anagram(test, original):\\\\n\\\\tt = sorted(test.lower())\\\\n\\\\to = sorted(original.lower())\\\\n\\\\tif t == o:\\\\n\\\\t\\\\treturn True\\\\n\\\\telse:\\\\n\\\\t\\\\treturn False\\\\n\", \"def is_anagram(test, original):\\\\n\\\\tnew_test = test.lower()\\\\n\\\\tnew_original = original.lower()\\\\n\\\\tsortedTest = sorted(new_test)\\\\n\\\\tsortedOriginal = sorted(new_original)\\\\n\\\\tfor letters in new_test:\\\\n\\\\t\\\\tif letters in new_original and len(new_test) == len(new_original) and (sortedOriginal == sortedTest):\\\\n\\\\t\\\\t\\\\treturn True\\\\n\\\\t\\\\telse:\\\\n\\\\t\\\\t\\\\treturn False\\\\n\", \"def is_anagram(test, original):\\\\n\\\\ttest_word_freq = {}\\\\n\\\\toriginal_word_freq = {}\\\\n\\\\ttest = test.lower()\\\\n\\\\toriginal = original.lower()\\\\n\\\\tif len(test) == len(original):\\\\n\\\\t\\\\tfor (idx, letter) in enumerate(test):\\\\n\\\\t\\\\t\\\\tif letter not in test_word_freq:\\\\n\\\\t\\\\t\\\\t\\\\ttest_word_freq[letter] = 1\\\\n\\\\t\\\\t\\\\telse:\\\\n\\\\t\\\\t\\\\t\\\\ttest_word_freq[letter] += 1\\\\n\\\\t\\\\tfor (idx, lett) in enumerate(original):\\\\n\\\\t\\\\t\\\\tif lett not in original_word_freq:\\\\n\\\\t\\\\t\\\\t\\\\toriginal_word_freq[lett] = 1\\\\n\\\\t\\\\t\\\\telse:\\\\n\\\\t\\\\t\\\\t\\\\toriginal_word_freq[lett] += 1\\\\n\\\\t\\\\tprint(original_word_freq)\\\\n\\\\t\\\\tprint(test_word_freq)\\\\n\\\\t\\\\tfor (k, v) in list(test_word_freq.items()):\\\\n\\\\t\\\\t\\\\tif k not in original_word_freq:\\\\n\\\\t\\\\t\\\\t\\\\treturn False\\\\n\\\\t\\\\t\\\\tif v != original_word_freq[k]:\\\\n\\\\t\\\\t\\\\t\\\\treturn False\\\\n\\\\t\\\\treturn True\\\\n\\\\telse:\\\\n\\\\t\\\\treturn False\\\\n\", \"def is_anagram(test, original):\\\\n\\\\tfirst = [i.lower() for i in test]\\\\n\\\\tsecond = [i.lower() for i in original]\\\\n\\\\treturn sorted(first) == sorted(second)\\\\n\", \"def is_anagram(test, original):\\\\n\\\\tlist_test = []\\\\n\\\\tlist_original = []\\\\n\\\\tfor i in test.lower():\\\\n\\\\t\\\\tlist_test += i\\\\n\\\\tfor i in original.lower():\\\\n\\\\t\\\\tlist_original += i\\\\n\\\\tif len(list_test) == len(list_original):\\\\n\\\\t\\\\tlist_test.sort()\\\\n\\\\t\\\\tlist_original.sort()\\\\n\\\\t\\\\tif list_test == list_original:\\\\n\\\\t\\\\t\\\\treturn True\\\\n\\\\t\\\\telse:\\\\n\\\\t\\\\t\\\\treturn False\\\\n\\\\telse:\\\\n\\\\t\\\\treturn False\\\\n\", \"def is_anagram(test, original):\\\\n\\\\treturn True if sorted([letter for letter in test.lower()]) == sorted([letter for letter in original.lower()]) else False\\\\n\", \"def is_anagram(test, original):\\\\n\\\\tt = list(test.lower())\\\\n\\\\tto = \\'\\'.join(sorted(t))\\\\n\\\\to = list(original.lower())\\\\n\\\\too = \\'\\'.join(sorted(o))\\\\n\\\\tif to == oo:\\\\n\\\\t\\\\treturn True\\\\n\\\\telse:\\\\n\\\\t\\\\treturn False\\\\n\", \"def is_anagram(test, original):\\\\n\\\\tletterCount = dict.fromkeys(\\'abcdefghijklmnopqrstuvwxyz\\', 0)\\\\n\\\\tfor c in test.lower():\\\\n\\\\t\\\\tletterCount[c] += 1\\\\n\\\\tfor c in original.lower():\\\\n\\\\t\\\\tletterCount[c] -= 1\\\\n\\\\tfor value in list(letterCount.values()):\\\\n\\\\t\\\\tif value != 0:\\\\n\\\\t\\\\t\\\\treturn False\\\\n\\\\treturn True\\\\n\", \"def is_anagram(a_str, b_str):\\\\n\\\\tif len(a_str) == len(b_str):\\\\n\\\\t\\\\ta_list = list(a_str.lower())\\\\n\\\\t\\\\tb_list = list(b_str.lower())\\\\n\\\\t\\\\tfor char in a_list:\\\\n\\\\t\\\\t\\\\tif char in b_list:\\\\n\\\\t\\\\t\\\\t\\\\tb_list.remove(char)\\\\n\\\\t\\\\tif not b_list:\\\\n\\\\t\\\\t\\\\treturn True\\\\n\\\\t\\\\telse:\\\\n\\\\t\\\\t\\\\treturn False\\\\n\\\\telse:\\\\n\\\\t\\\\treturn False\\\\n\", \"def is_anagram(test, original):\\\\n\\\\tif len(test) != len(original):\\\\n\\\\t\\\\treturn False\\\\n\\\\telse:\\\\n\\\\t\\\\ttest = test.lower()\\\\n\\\\t\\\\toriginal = original.lower()\\\\n\\\\t\\\\tcounter_original = [0] * 26\\\\n\\\\t\\\\tcounter_test = [0] * 26\\\\n\\\\t\\\\tfor i in test:\\\\n\\\\t\\\\t\\\\tcounter_test[ord(i) - 97] += 1\\\\n\\\\t\\\\tfor i in original:\\\\n\\\\t\\\\t\\\\tcounter_original[ord(i) - 97] += 1\\\\n\\\\treturn counter_test == counter_original\\\\n\", \"def is_anagram(test, original):\\\\n\\\\ttest = test.lower()\\\\n\\\\toriginal = original.lower()\\\\n\\\\tnewList = [ord(c) for c in test]\\\\n\\\\tnewList.sort()\\\\n\\\\tnewList2 = [ord(b) for b in original]\\\\n\\\\tnewList2.sort()\\\\n\\\\tif newList == newList2:\\\\n\\\\t\\\\treturn True\\\\n\\\\telse:\\\\n\\\\t\\\\treturn False\\\\n\", \"def is_anagram(test, original):\\\\n\\\\tcounterTest = [0] * 255\\\\n\\\\tcounterOri = [0] * 255\\\\n\\\\tfor i in range(len(test)):\\\\n\\\\t\\\\tcounterTest[ord(test[i].lower())] += 1\\\\n\\\\tfor i in range(len(original)):\\\\n\\\\t\\\\tcounterOri[ord(original[i].lower())] += 1\\\\n\\\\tif counterOri == counterTest:\\\\n\\\\t\\\\treturn True\\\\n\\\\telse:\\\\n\\\\t\\\\treturn False\\\\n\", \"def is_anagram(test, original):\\\\n\\\\ttest = test.upper()\\\\n\\\\toriginal = original.upper()\\\\n\\\\tif sorted(test) == sorted(original):\\\\n\\\\t\\\\treturn True\\\\n\\\\telse:\\\\n\\\\t\\\\treturn False\\\\n\", \"def is_anagram(test, original):\\\\n\\\\tif len(test) == len(original):\\\\n\\\\t\\\\ttest = test.lower()\\\\n\\\\t\\\\toriginal = original.lower()\\\\n\\\\t\\\\tfor i in test:\\\\n\\\\t\\\\t\\\\tif original.find(i) == -1:\\\\n\\\\t\\\\t\\\\t\\\\treturn False\\\\n\\\\t\\\\t\\\\telse:\\\\n\\\\t\\\\t\\\\t\\\\ttest.replace(i, \\'\\')\\\\n\\\\t\\\\t\\\\t\\\\toriginal.replace(i, \\'\\')\\\\n\\\\telse:\\\\n\\\\t\\\\treturn False\\\\n\\\\treturn True\\\\n\", \"def is_anagram(test, original):\\\\n\\\\tcounter1 = [0] * 255\\\\n\\\\tcounter2 = [0] * 255\\\\n\\\\tfor i in range(len(test)):\\\\n\\\\t\\\\tcounter1[ord(test[i].lower())] += 1\\\\n\\\\tfor i in range(len(original)):\\\\n\\\\t\\\\tcounter2[ord(original[i].lower())] += 1\\\\n\\\\treturn counter1 == counter2\\\\n\", \"def is_anagram(test, original):\\\\n\\\\ttest = test.lower()\\\\n\\\\toriginal = original.lower()\\\\n\\\\tfor x in range(len(test)):\\\\n\\\\t\\\\tif test.count(test[x]) != original.count(test[x]):\\\\n\\\\t\\\\t\\\\treturn False\\\\n\\\\tfor x in range(len(original)):\\\\n\\\\t\\\\tif test.count(original[x]) != original.count(original[x]):\\\\n\\\\t\\\\t\\\\treturn False\\\\n\\\\treturn True\\\\n\", \"def is_anagram(test, original):\\\\n\\\\ttest = test.lower()\\\\n\\\\toriginal = original.lower()\\\\n\\\\tnT = len(test)\\\\n\\\\tnO = len(original)\\\\n\\\\tif nO == nT:\\\\n\\\\t\\\\tcounterT = [0] * (255 + 1)\\\\n\\\\t\\\\tcounterO = [0] * (255 + 1)\\\\n\\\\t\\\\tfor x in range(nT):\\\\n\\\\t\\\\t\\\\tcounterT[ord(test[x])] += 1\\\\n\\\\t\\\\t\\\\tcounterO[ord(original[x])] += 1\\\\n\\\\t\\\\tif counterT == counterO:\\\\n\\\\t\\\\t\\\\treturn True\\\\n\\\\t\\\\telse:\\\\n\\\\t\\\\t\\\\treturn False\\\\n\\\\telse:\\\\n\\\\t\\\\treturn False\\\\n\", \"def is_anagram(test, original):\\\\n\\\\tn = len(original)\\\\n\\\\tif n != len(test):\\\\n\\\\t\\\\treturn False\\\\n\\\\tcounterTest = [0] * 255\\\\n\\\\tcounterOrig = [0] * 255\\\\n\\\\tfor i in range(n):\\\\n\\\\t\\\\tcounterTest[ord(test[i].lower())] += 1\\\\n\\\\t\\\\tcounterOrig[ord(original[i].lower())] += 1\\\\n\\\\treturn True if \\'\\'.join(map(str, counterTest)) == \\'\\'.join(map(str, counterOrig)) else False\\\\n\", \"def is_anagram(test, original):\\\\n\\\\treturn sorted([n.lower() for n in test]) == sorted([n.lower() for n in original])\\\\n\", \"def is_anagram(word_o, test_o):\\\\n\\\\tis_anagram = True\\\\n\\\\tword = word_o.lower()\\\\n\\\\ttest = test_o.lower()\\\\n\\\\tif len(word) != len(test):\\\\n\\\\t\\\\tis_anagram = False\\\\n\\\\talist = list(test.lower())\\\\n\\\\tpos1 = 0\\\\n\\\\twhile pos1 < len(word) and is_anagram:\\\\n\\\\t\\\\tpos2 = 0\\\\n\\\\t\\\\tfound = False\\\\n\\\\t\\\\twhile pos2 < len(alist) and (not found):\\\\n\\\\t\\\\t\\\\tif word[pos1] == alist[pos2]:\\\\n\\\\t\\\\t\\\\t\\\\tfound = True\\\\n\\\\t\\\\t\\\\telse:\\\\n\\\\t\\\\t\\\\t\\\\tpos2 = pos2 + 1\\\\n\\\\t\\\\tif found:\\\\n\\\\t\\\\t\\\\talist[pos2] = None\\\\n\\\\t\\\\telse:\\\\n\\\\t\\\\t\\\\tis_anagram = False\\\\n\\\\t\\\\tpos1 = pos1 + 1\\\\n\\\\treturn is_anagram\\\\n\", \"def is_anagram(test, original):\\\\n\\\\tl1 = list(test.lower())\\\\n\\\\tl2 = list(original.lower())\\\\n\\\\tif len(l1) == len(l2):\\\\n\\\\t\\\\tfor i in l1:\\\\n\\\\t\\\\t\\\\tif i in l2:\\\\n\\\\t\\\\t\\\\t\\\\tl2.remove(i)\\\\n\\\\t\\\\t\\\\telse:\\\\n\\\\t\\\\t\\\\t\\\\treturn False\\\\n\\\\telse:\\\\n\\\\t\\\\treturn False\\\\n\\\\treturn True\\\\n\", \"def is_anagram(test, original):\\\\n\\\\tfor i in test.lower():\\\\n\\\\t\\\\tif i in original.lower() and len(test) == len(original):\\\\n\\\\t\\\\t\\\\tcontinue\\\\n\\\\t\\\\telse:\\\\n\\\\t\\\\t\\\\treturn False\\\\n\\\\treturn True\\\\n\", \"def is_anagram(test, original):\\\\n\\\\ttest_list = [letter1 for letter1 in test.lower()]\\\\n\\\\torig_list = [letter2 for letter2 in original.lower()]\\\\n\\\\tif sorted(test_list) == sorted(orig_list):\\\\n\\\\t\\\\treturn True\\\\n\\\\telse:\\\\n\\\\t\\\\treturn False\\\\n\", \"def is_anagram(test, original):\\\\n\\\\tt = sorted(test.lower())\\\\n\\\\to = sorted(original.lower())\\\\n\\\\tif t == o:\\\\n\\\\t\\\\tprint(\\'true\\')\\\\n\\\\t\\\\treturn True\\\\n\\\\telse:\\\\n\\\\t\\\\tprint(\\'false\\')\\\\n\\\\t\\\\treturn False\\\\n\", \"def is_anagram(test, original):\\\\n\\\\ttest = [i.lower() for i in test]\\\\n\\\\toriginal = [j.lower() for j in original]\\\\n\\\\ttest.sort()\\\\n\\\\toriginal.sort()\\\\n\\\\treturn test == original\\\\n\", \"def is_anagram(test, original):\\\\n\\\\ttest = test.lower()\\\\n\\\\toriginal = original.lower()\\\\n\\\\tif len(test) != len(original):\\\\n\\\\t\\\\treturn False\\\\n\\\\tfor x in test:\\\\n\\\\t\\\\tif test.count(x) == original.count(x):\\\\n\\\\t\\\\t\\\\tcontinue\\\\n\\\\t\\\\telse:\\\\n\\\\t\\\\t\\\\treturn False\\\\n\\\\treturn True\\\\n\", \"def is_anagram(test, original):\\\\n\\\\ttest = test.lower()\\\\n\\\\toriginal = original.lower()\\\\n\\\\tnew_test = list(test)\\\\n\\\\tnew_original = list(original)\\\\n\\\\tnew_test.sort()\\\\n\\\\tnew_original.sort()\\\\n\\\\tif new_test == new_original:\\\\n\\\\t\\\\treturn True\\\\n\\\\treturn False\\\\n\\\\tpass\\\\n\", \"def is_anagram(test, original):\\\\n\\\\treturn set(test.upper()) == set(original.upper()) and len(test) == len(original)\\\\n\", \"is_anagram = lambda test, original: True if sorted(original.lower()) == sorted(test.lower()) else False\\\\n\", \"def is_anagram(test, original):\\\\n\\\\toriginalLower = [val for val in original.lower()]\\\\n\\\\tarr = test.lower()\\\\n\\\\tif len(arr) != len(originalLower):\\\\n\\\\t\\\\treturn False\\\\n\\\\tfor element in arr:\\\\n\\\\t\\\\tif element not in originalLower:\\\\n\\\\t\\\\t\\\\treturn False\\\\n\\\\t\\\\telse:\\\\n\\\\t\\\\t\\\\toriginalLower.remove(element)\\\\n\\\\treturn True\\\\n\", \"def is_anagram(test, original):\\\\n\\\\tn1 = len(test)\\\\n\\\\tn2 = len(original)\\\\n\\\\tif n1 != n2:\\\\n\\\\t\\\\treturn False\\\\n\\\\tstr1 = sorted(test.lower())\\\\n\\\\tstr2 = sorted(original.lower())\\\\n\\\\tfor i in range(0, n1):\\\\n\\\\t\\\\tif str1[i] != str2[i]:\\\\n\\\\t\\\\t\\\\treturn False\\\\n\\\\treturn True\\\\n\", \"def is_anagram(test, original):\\\\n\\\\ttest_l = list(test.lower())\\\\n\\\\toriginal_l = list(original.lower())\\\\n\\\\ttest_l.sort()\\\\n\\\\toriginal_l.sort()\\\\n\\\\tif test_l == original_l:\\\\n\\\\t\\\\treturn True\\\\n\\\\telse:\\\\n\\\\t\\\\treturn False\\\\n\", \"def is_anagram(test, original):\\\\n\\\\ttest = list(test.lower())\\\\n\\\\toriginal = list(original.lower())\\\\n\\\\tif len(test) != len(original):\\\\n\\\\t\\\\treturn False\\\\n\\\\tfor word in test:\\\\n\\\\t\\\\tfor word2 in original:\\\\n\\\\t\\\\t\\\\tif word == word2:\\\\n\\\\t\\\\t\\\\t\\\\toriginal.remove(word2)\\\\n\\\\t\\\\t\\\\t\\\\tbreak\\\\n\\\\tif len(original) == 0:\\\\n\\\\t\\\\treturn True\\\\n\\\\telse:\\\\n\\\\t\\\\treturn False\\\\n\", \"def is_anagram(test, original):\\\\n\\\\ta = sorted(list(test.lower()))\\\\n\\\\tb = sorted(list(original.lower()))\\\\n\\\\tif a == b:\\\\n\\\\t\\\\tprint(f\\'The word {test} is an anagram of {original}\\')\\\\n\\\\t\\\\treturn True\\\\n\\\\telse:\\\\n\\\\t\\\\tprint(f\\'Characters do not match for test case {test}, {original}\\')\\\\n\\\\t\\\\treturn False\\\\n\", \"def is_anagram(test, original):\\\\n\\\\n\\\\tdef to_list(string):\\\\n\\\\t\\\\tlisted = []\\\\n\\\\t\\\\tfor i in range(len(string)):\\\\n\\\\t\\\\t\\\\tlisted.append(string[i])\\\\n\\\\t\\\\treturn listed\\\\n\\\\treturn str(sorted(to_list(test.lower()))) == str(sorted(to_list(original.lower())))\\\\n\", \"def is_anagram(test, original):\\\\n\\\\ttest = list(test.lower())\\\\n\\\\ttest.sort()\\\\n\\\\toriginal = list(original.lower())\\\\n\\\\toriginal.sort()\\\\n\\\\tif original != test or len(test) != len(original):\\\\n\\\\t\\\\treturn False\\\\n\\\\telse:\\\\n\\\\t\\\\treturn True\\\\n\", \"def is_anagram(test, original):\\\\n\\\\tif len(test) != len(original):\\\\n\\\\t\\\\treturn False\\\\n\\\\ttest = sorted(test.lower())\\\\n\\\\toriginal = sorted(original.lower())\\\\n\\\\tfor i in range(len(test)):\\\\n\\\\t\\\\tif test[i] != original[i]:\\\\n\\\\t\\\\t\\\\treturn False\\\\n\\\\treturn True\\\\n\", \"def is_anagram(test, original):\\\\n\\\\tresult = True if len(test) == len(original) else False\\\\n\\\\tfor letter in test.upper():\\\\n\\\\t\\\\tresult = False if letter not in original.upper() else result\\\\n\\\\treturn result\\\\n\", \"def is_anagram(test, original):\\\\n\\\\tif len(original) != len(test):\\\\n\\\\t\\\\treturn False\\\\n\\\\ttest = test.lower()\\\\n\\\\toriginal = original.lower()\\\\n\\\\tfor letter in original:\\\\n\\\\t\\\\tif original.count(letter) != test.count(letter):\\\\n\\\\t\\\\t\\\\treturn False\\\\n\\\\treturn True\\\\n\", \"def is_anagram(test, original):\\\\n\\\\tif sorted(test.lower()) == sorted(original.lower()):\\\\n\\\\t\\\\treturn True\\\\n\\\\telif test != original:\\\\n\\\\t\\\\treturn False\\\\n\", \"def is_anagram(test, original):\\\\n\\\\ttest_list = sorted(list(test.lower()))\\\\n\\\\toriginal_list = sorted(list(original.lower()))\\\\n\\\\tif test_list == original_list:\\\\n\\\\t\\\\treturn True\\\\n\\\\tif test_list != original_list:\\\\n\\\\t\\\\treturn False\\\\n\", \"def is_anagram(test, original):\\\\n\\\\ttest = test.lower()\\\\n\\\\toriginal = original.lower()\\\\n\\\\tt = list(test)\\\\n\\\\to = list(original)\\\\n\\\\tt.sort()\\\\n\\\\to.sort()\\\\n\\\\treturn t == o\\\\n\", \"def is_anagram(test, original):\\\\n\\\\tt = test.lower()\\\\n\\\\to = [*original.lower()]\\\\n\\\\tif len(t) != len(o):\\\\n\\\\t\\\\treturn False\\\\n\\\\tfor c in t:\\\\n\\\\t\\\\tif c in o:\\\\n\\\\t\\\\t\\\\to.remove(c)\\\\n\\\\t\\\\telse:\\\\n\\\\t\\\\t\\\\treturn False\\\\n\\\\treturn True\\\\n\", \"def is_anagram(test, original):\\\\n\\\\tif len(test) > len(original) or len(test) < len(original):\\\\n\\\\t\\\\treturn False\\\\n\\\\tres = \\'\\'\\\\n\\\\tcounter = 0\\\\n\\\\tsortedTest = sorted(test.lower())\\\\n\\\\tsortedOriginal = sorted(original.lower())\\\\n\\\\tfor i in range(0, len(sortedTest)):\\\\n\\\\t\\\\tif sortedTest[i] != sortedOriginal[i]:\\\\n\\\\t\\\\t\\\\tres = False\\\\n\\\\t\\\\t\\\\tbreak\\\\n\\\\t\\\\telse:\\\\n\\\\t\\\\t\\\\tres = True\\\\n\\\\treturn res\\\\n\", \"from collections import Counter as C\\\\n\\\\ndef is_anagram(test, original):\\\\n\\\\treturn C(test.lower()) == C(original.lower())\\\\n\", \"def is_anagram(test, original):\\\\n\\\\tsort1 = sorted(test.lower())\\\\n\\\\tsort2 = sorted(original.lower())\\\\n\\\\tif \\'\\'.join(sort2) == \\'\\'.join(sort1):\\\\n\\\\t\\\\treturn True\\\\n\\\\telse:\\\\n\\\\t\\\\treturn False\\\\n\", \"def is_anagram(test, original):\\\\n\\\\ttheTest = test.lower()\\\\n\\\\ttheOriginal = original.lower()\\\\n\\\\tif len(theTest) != len(theOriginal):\\\\n\\\\t\\\\treturn False\\\\n\\\\telse:\\\\n\\\\t\\\\tindex = 0\\\\n\\\\t\\\\tlengthCheck = 0\\\\n\\\\t\\\\tarray = [None] * len(theTest)\\\\n\\\\t\\\\tfor i in theOriginal:\\\\n\\\\t\\\\t\\\\tarray[index] = i\\\\n\\\\t\\\\t\\\\tindex += 1\\\\n\\\\t\\\\tfor j in theTest:\\\\n\\\\t\\\\t\\\\ttestLength = len(theTest)\\\\n\\\\t\\\\t\\\\tif j in array:\\\\n\\\\t\\\\t\\\\t\\\\tlengthCheck += 1\\\\n\\\\t\\\\t\\\\telse:\\\\n\\\\t\\\\t\\\\t\\\\treturn False\\\\n\\\\t\\\\tif lengthCheck == testLength:\\\\n\\\\t\\\\t\\\\treturn True\\\\n\", \"def is_anagram(tst, org):\\\\n\\\\ttst = tst.lower()\\\\n\\\\torg = org.lower()\\\\n\\\\tif len(tst) != len(org):\\\\n\\\\t\\\\treturn False\\\\n\\\\tfor i in org:\\\\n\\\\t\\\\tif tst.count(i) != org.count(i):\\\\n\\\\t\\\\t\\\\treturn False\\\\n\\\\treturn True\\\\n\", \"def is_anagram(test, original):\\\\n\\\\tif len(test) != len(original):\\\\n\\\\t\\\\treturn False\\\\n\\\\telif sorted(test.casefold()) == sorted(original.casefold()):\\\\n\\\\t\\\\treturn True\\\\n\\\\telse:\\\\n\\\\t\\\\treturn False\\\\n\", \"def is_anagram(test, original):\\\\n\\\\tletters_original = sorted(list(original.upper()))\\\\n\\\\tletters_test = sorted(list(test.upper()))\\\\n\\\\treturn letters_original == letters_test\\\\n\", \"def is_anagram(test, original):\\\\n\\\\treturn len(test) == len(original) and all([i in original.lower() for i in test.lower()])\\\\n\", \"def is_anagram(test, original):\\\\n\\\\torg1 = [x.lower() for x in original]\\\\n\\\\torg2 = [y.lower() for y in test]\\\\n\\\\torg1.sort()\\\\n\\\\torg2.sort()\\\\n\\\\tif org1 == org2:\\\\n\\\\t\\\\treturn True\\\\n\\\\treturn False\\\\n\", \"def is_anagram(test, original):\\\\n\\\\toriginal_list = list(original.lower())\\\\n\\\\ttest_list = list(test.lower())\\\\n\\\\toriginal_list.sort()\\\\n\\\\ttest_list.sort()\\\\n\\\\ta = \\'\\'.join(test_list)\\\\n\\\\tb = \\'\\'.join(original_list)\\\\n\\\\treturn a == b\\\\n\", \"def is_anagram(test, original):\\\\n\\\\ttest = test.lower().replace(\\' \\', \\'\\')\\\\n\\\\toriginal = original.lower().replace(\\' \\', \\'\\')\\\\n\\\\tif len(test) != len(original):\\\\n\\\\t\\\\treturn False\\\\n\\\\tfor letter in test:\\\\n\\\\t\\\\tif letter not in original:\\\\n\\\\t\\\\t\\\\treturn False\\\\n\\\\tfor letter in original:\\\\n\\\\t\\\\tif letter not in test:\\\\n\\\\t\\\\t\\\\treturn False\\\\n\\\\treturn True\\\\n\"]',\n",
       " 'starter_code': 'def is_anagram(test, original):\\n\\t',\n",
       " 'input_output': '{\"fn_name\": \"is_anagram\", \"inputs\": [[\"foefet\", \"toffee\"], [\"Buckethead\", \"DeathCubeK\"], [\"Twoo\", \"WooT\"], [\"dumble\", \"bumble\"], [\"ound\", \"round\"], [\"apple\", \"pale\"]], \"outputs\": [[true], [true], [true], [false], [false], [false]]}',\n",
       " 'difficulty': 'EASY',\n",
       " 'raw_tags': \"['Strings', 'Fundamentals']\",\n",
       " 'name': None,\n",
       " 'source': 'codewars',\n",
       " 'tags': \"['String algorithms', 'Fundamentals']\",\n",
       " 'skill_types': '[]',\n",
       " 'url': 'https://www.codewars.com/kata/529eef7a9194e0cbc1000255',\n",
       " 'Expected Auxiliary Space': None,\n",
       " 'time_limit': None,\n",
       " 'date': None,\n",
       " 'picture_num': None,\n",
       " 'memory_limit': None,\n",
       " 'Expected Time Complexity': None}"
      ]
     },
     "execution_count": 6,
     "metadata": {},
     "output_type": "execute_result"
    }
   ],
   "source": [
    "for idx, sample in enumerate(dataset['train']):\n",
    "    # sample = dataset['train'][10000]\n",
    "    solutions = json.loads(sample['solutions'])\n",
    "    if not solutions:\n",
    "        continue\n",
    "    input_output = json.loads(sample['input_output'])\n",
    "\n",
    "    if 'fn_name' in input_output:\n",
    "        break\n",
    "print(idx)\n",
    "sample"
   ]
  },
  {
   "cell_type": "code",
   "execution_count": 7,
   "metadata": {},
   "outputs": [],
   "source": [
    "solution = solutions[0]"
   ]
  },
  {
   "cell_type": "code",
   "execution_count": 8,
   "metadata": {},
   "outputs": [
    {
     "data": {
      "text/plain": [
       "(6, 6, True, 85)"
      ]
     },
     "execution_count": 8,
     "metadata": {},
     "output_type": "execute_result"
    }
   ],
   "source": [
    "len(input_output['inputs']), len(input_output['outputs']), 'fn_name' in input_output, len(solutions)"
   ]
  },
  {
   "cell_type": "code",
   "execution_count": 9,
   "metadata": {},
   "outputs": [
    {
     "name": "stdout",
     "output_type": "stream",
     "text": [
      "start = 19:55:09.665815\n",
      "loaded input_output = 19:55:09.665900\n",
      "loading test code = 19:55:09.665908\n",
      "loading test code = 19:55:09.665914\n",
      "> \u001b[0;32m/Users/yu.3737/Program/CodeVerifier/Project/TACO/metrics/testing_util.py\u001b[0m(243)\u001b[0;36mexecute_cb_code\u001b[0;34m()\u001b[0m\n",
      "\u001b[0;32m    241 \u001b[0;31m            \u001b[0;32mcontinue\u001b[0m\u001b[0;34m\u001b[0m\u001b[0;34m\u001b[0m\u001b[0m\n",
      "\u001b[0m\u001b[0;32m    242 \u001b[0;31m        \u001b[0mpdb\u001b[0m\u001b[0;34m.\u001b[0m\u001b[0mset_trace\u001b[0m\u001b[0;34m(\u001b[0m\u001b[0;34m)\u001b[0m\u001b[0;34m\u001b[0m\u001b[0;34m\u001b[0m\u001b[0m\n",
      "\u001b[0m\u001b[0;32m--> 243 \u001b[0;31m        \u001b[0;32mtry\u001b[0m\u001b[0;34m:\u001b[0m\u001b[0;34m\u001b[0m\u001b[0;34m\u001b[0m\u001b[0m\n",
      "\u001b[0m\u001b[0;32m    244 \u001b[0;31m            \u001b[0;31m# ground truth sequences are not tuples\u001b[0m\u001b[0;34m\u001b[0m\u001b[0;34m\u001b[0m\u001b[0m\n",
      "\u001b[0m\u001b[0;32m    245 \u001b[0;31m            \u001b[0;32mif\u001b[0m \u001b[0misinstance\u001b[0m\u001b[0;34m(\u001b[0m\u001b[0mexec_outputs\u001b[0m\u001b[0;34m,\u001b[0m \u001b[0mtuple\u001b[0m\u001b[0;34m)\u001b[0m\u001b[0;34m:\u001b[0m\u001b[0;34m\u001b[0m\u001b[0;34m\u001b[0m\u001b[0m\n",
      "\u001b[0m\n",
      "alarm went off\n",
      "True\n",
      "[True]\n",
      "--KeyboardInterrupt--\n",
      "\n",
      "KeyboardInterrupt: Interrupted by user\n",
      "outputs = True, test outputs = [True], inputs = ['foefet', 'toffee'], <class 'list'>, False\n",
      "> \u001b[0;32m/Users/yu.3737/Program/CodeVerifier/Project/TACO/metrics/testing_util.py\u001b[0m(242)\u001b[0;36mexecute_cb_code\u001b[0;34m()\u001b[0m\n",
      "\u001b[0;32m    240 \u001b[0;31m            \u001b[0mresults\u001b[0m\u001b[0;34m.\u001b[0m\u001b[0mappend\u001b[0m\u001b[0;34m(\u001b[0m\u001b[0;34m(\u001b[0m\u001b[0;32mFalse\u001b[0m\u001b[0;34m,\u001b[0m \u001b[0mEXECUTION_RESULTS\u001b[0m\u001b[0;34m[\u001b[0m\u001b[0;34m-\u001b[0m\u001b[0;36m2\u001b[0m\u001b[0;34m]\u001b[0m\u001b[0;34m)\u001b[0m\u001b[0;34m)\u001b[0m\u001b[0;34m\u001b[0m\u001b[0;34m\u001b[0m\u001b[0m\n",
      "\u001b[0m\u001b[0;32m    241 \u001b[0;31m            \u001b[0;32mcontinue\u001b[0m\u001b[0;34m\u001b[0m\u001b[0;34m\u001b[0m\u001b[0m\n",
      "\u001b[0m\u001b[0;32m--> 242 \u001b[0;31m        \u001b[0mpdb\u001b[0m\u001b[0;34m.\u001b[0m\u001b[0mset_trace\u001b[0m\u001b[0;34m(\u001b[0m\u001b[0;34m)\u001b[0m\u001b[0;34m\u001b[0m\u001b[0;34m\u001b[0m\u001b[0m\n",
      "\u001b[0m\u001b[0;32m    243 \u001b[0;31m        \u001b[0;32mtry\u001b[0m\u001b[0;34m:\u001b[0m\u001b[0;34m\u001b[0m\u001b[0;34m\u001b[0m\u001b[0m\n",
      "\u001b[0m\u001b[0;32m    244 \u001b[0;31m            \u001b[0;31m# ground truth sequences are not tuples\u001b[0m\u001b[0;34m\u001b[0m\u001b[0;34m\u001b[0m\u001b[0m\n",
      "\u001b[0m\n"
     ]
    }
   ],
   "source": [
    "output = run_test(sample, solutions[1], debug=True)"
   ]
  },
  {
   "cell_type": "code",
   "execution_count": null,
   "metadata": {},
   "outputs": [],
   "source": []
  },
  {
   "cell_type": "code",
   "execution_count": 25,
   "metadata": {},
   "outputs": [
    {
     "data": {
      "text/plain": [
       "True"
      ]
     },
     "execution_count": 25,
     "metadata": {},
     "output_type": "execute_result"
    }
   ],
   "source": [
    "all(output)"
   ]
  }
 ],
 "metadata": {
  "kernelspec": {
   "display_name": "ca",
   "language": "python",
   "name": "python3"
  },
  "language_info": {
   "codemirror_mode": {
    "name": "ipython",
    "version": 3
   },
   "file_extension": ".py",
   "mimetype": "text/x-python",
   "name": "python",
   "nbconvert_exporter": "python",
   "pygments_lexer": "ipython3",
   "version": "3.9.19"
  }
 },
 "nbformat": 4,
 "nbformat_minor": 2
}
